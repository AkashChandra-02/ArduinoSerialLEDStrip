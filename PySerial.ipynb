{
 "cells": [
  {
   "cell_type": "markdown",
   "metadata": {},
   "source": [
    "Use python -m serial.tools.list_ports to see what COM ports are open."
   ]
  },
  {
   "cell_type": "code",
   "execution_count": 38,
   "metadata": {},
   "outputs": [],
   "source": [
    "import serial\n",
    "\n",
    "import time\n",
    "\n",
    "MAX_LED = 12"
   ]
  },
  {
   "cell_type": "code",
   "execution_count": 39,
   "metadata": {},
   "outputs": [],
   "source": [
    "def checkCmd(cmd):\n",
    "    cmd = cmd.upper()\n",
    "    \n",
    "    if(cmd == \"CLS\"):\n",
    "        return True\n",
    "    \n",
    "    elif(cmd.find(\"I\") == -1 or cmd.find(\"L\") == -1 or cmd.find(\"R\") == -1 or \n",
    "       cmd.find(\"G\") == -1 or cmd.find(\"B\") == -1):\n",
    "        return False\n",
    "    \n",
    "    else: \n",
    "        index = int(cmd[1:cmd.find(\"L\")])\n",
    "        luminous = int(cmd[cmd.find(\"L\")+1:cmd.find(\"R\")]) \n",
    "        red = int(cmd[cmd.find(\"R\")+1:cmd.find(\"G\")])\n",
    "        green = int(cmd[cmd.find(\"G\")+1:cmd.find(\"B\")])\n",
    "        blue = int(cmd[cmd.find(\"B\")+1:])\n",
    "        \n",
    "        if(0 <= index and index <= MAX_LED and 0 <= luminous and luminous <= 255 and \n",
    "           0 <= red and red <= 255 and 0 <= green and green <= 255 and 0 <= blue and blue <= 255):\n",
    "            return True\n",
    "        else:\n",
    "            return False\n",
    "        \n",
    "def sendCmd(cmd, port):\n",
    "    if(cmd == \"CLS\"):\n",
    "        port.write(str.encode(cmd))\n",
    "        port.write(str.encode(\"I10L0R0G0B0\"))\n",
    "    else:\n",
    "        port.write(str.encode(cmd))\n",
    "        \n",
    "def testLEDs(num, port):\n",
    "    for i in range(num):\n",
    "        cmd = \"I\" + str(i) + \"L50R100G100B100\"\n",
    "        if(checkCmd):\n",
    "            sendCmd(cmd, port)\n",
    "            print(\"LED \" + str(i) + \" is on\")\n",
    "            time.sleep(.5)\n",
    "            sendCmd(\"CLS\", port)\n",
    "        else:\n",
    "            print(cmd + \" FAILED\")\n",
    "            \n",
    "def openCOMPort(portNum):\n",
    "    ser = serial.Serial()\n",
    "    ser.baudrate = 9600\n",
    "    ser.port = portNum\n",
    "    ser.open()\n",
    "    return ser, ser.is_open\n",
    "\n",
    "def closeCOMPort(port):\n",
    "    port.close()\n",
    "    return (not (port.is_open))"
   ]
  },
  {
   "cell_type": "code",
   "execution_count": null,
   "metadata": {
    "scrolled": true
   },
   "outputs": [],
   "source": [
    "brightness = input(\"Please put in a brightness for the LEDS:\\n\")\n",
    "print(\"The set brightness is \" + brightness)"
   ]
  },
  {
   "cell_type": "code",
   "execution_count": null,
   "metadata": {},
   "outputs": [],
   "source": []
  }
 ],
 "metadata": {
  "kernelspec": {
   "display_name": "Python 3",
   "language": "python",
   "name": "python3"
  },
  "language_info": {
   "codemirror_mode": {
    "name": "ipython",
    "version": 3
   },
   "file_extension": ".py",
   "mimetype": "text/x-python",
   "name": "python",
   "nbconvert_exporter": "python",
   "pygments_lexer": "ipython3",
   "version": "3.8.5"
  }
 },
 "nbformat": 4,
 "nbformat_minor": 4
}
