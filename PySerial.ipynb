{
 "cells": [
  {
   "cell_type": "code",
   "execution_count": 1,
   "metadata": {},
   "outputs": [],
   "source": [
    "import serial as s\n",
    "import time as t\n",
    "#python -m serial.tools.list_ports"
   ]
  },
  {
   "cell_type": "code",
   "execution_count": 3,
   "metadata": {},
   "outputs": [],
   "source": [
    "def checkCmd(cmd):\n",
    "    cmd = cmd.upper()\n",
    "    \n",
    "    if(cmd == \"CLS\"):\n",
    "        return True\n",
    "    \n",
    "    elif(cmd.find(\"I\") == -1 or cmd.find(\"L\") == -1 or cmd.find(\"R\") == -1 or \n",
    "       cmd.find(\"G\") == -1 or cmd.find(\"B\") == -1):\n",
    "        return False\n",
    "    \n",
    "    else: \n",
    "        index = int(cmd[1:cmd.find(\"L\")])\n",
    "        luminous = int(cmd[cmd.find(\"L\")+1:cmd.find(\"R\")]) \n",
    "        red = int(cmd[cmd.find(\"R\")+1:cmd.find(\"G\")])\n",
    "        green = int(cmd[cmd.find(\"G\")+1:cmd.find(\"B\")])\n",
    "        blue = int(cmd[cmd.find(\"B\")+1:])\n",
    "        \n",
    "        if(0 <= index and index <= 12 and 0 <= luminous and luminous <= 255 and \n",
    "           0 <= red and red <= 255 and 0 <= green and green <= 255 and 0 <= blue and blue <= 255):\n",
    "            port.write(str.encode(cmd))\n",
    "            return True\n",
    "        else:\n",
    "            return False\n",
    "        \n",
    "        \n",
    "def sendCmd(cmd, port):\n",
    "    if(cmd == \"CLS\"):\n",
    "        port.write(str.encode(cmd))\n",
    "        port.write(str.encode(\"I10L0R0G0B0\"))\n",
    "    \n",
    "    else:\n",
    "        port.write(str.encode(cmd))"
   ]
  },
  {
   "cell_type": "code",
   "execution_count": 87,
   "metadata": {},
   "outputs": [
    {
     "data": {
      "text/plain": [
       "True"
      ]
     },
     "execution_count": 87,
     "metadata": {},
     "output_type": "execute_result"
    }
   ],
   "source": [
    "ser = s.Serial()\n",
    "ser.baudrate = 9600\n",
    "ser.port = 'COM8'\n",
    "ser.open()\n",
    "ser.is_open"
   ]
  },
  {
   "cell_type": "code",
   "execution_count": 6,
   "metadata": {},
   "outputs": [
    {
     "name": "stdout",
     "output_type": "stream",
     "text": [
      "I0L50R19G19B19\n",
      "I1L50R38G38B38\n",
      "I2L50R57G57B57\n",
      "I3L50R76G76B76\n",
      "I4L50R95G95B95\n",
      "I5L50R114G114B114\n",
      "I6L50R133G133B133\n",
      "I7L50R152G152B152\n",
      "I8L50R171G171B171\n",
      "I9L50R190G190B190\n",
      "I10L50R209G209B209\n",
      "I11L50R228G228B228\n"
     ]
    }
   ],
   "source": [
    "for i in range(12):\n",
    "    color = (i+1) * 19\n",
    "    cmd = \"I\" + str(i) + \"L50R\" + str(color) + \"G\" + str(color) + \"B\" + str(color)\n",
    "    if(checkCmd):\n",
    "        print(cmd)\n",
    "        sendCmd(cmd, ser)\n",
    "    t.sleep(.5)"
   ]
  },
  {
   "cell_type": "code",
   "execution_count": 90,
   "metadata": {},
   "outputs": [
    {
     "data": {
      "text/plain": [
       "False"
      ]
     },
     "execution_count": 90,
     "metadata": {},
     "output_type": "execute_result"
    }
   ],
   "source": [
    "ser.close()\n",
    "ser.is_open"
   ]
  },
  {
   "cell_type": "code",
   "execution_count": null,
   "metadata": {
    "scrolled": true
   },
   "outputs": [],
   "source": [
    "brightness = input(\"Please put in a brightness for the LEDS:\\n\")\n",
    "print(\"The set brightness is \" + brightness)"
   ]
  }
 ],
 "metadata": {
  "kernelspec": {
   "display_name": "Python 3",
   "language": "python",
   "name": "python3"
  },
  "language_info": {
   "codemirror_mode": {
    "name": "ipython",
    "version": 3
   },
   "file_extension": ".py",
   "mimetype": "text/x-python",
   "name": "python",
   "nbconvert_exporter": "python",
   "pygments_lexer": "ipython3",
   "version": "3.8.5"
  }
 },
 "nbformat": 4,
 "nbformat_minor": 4
}
